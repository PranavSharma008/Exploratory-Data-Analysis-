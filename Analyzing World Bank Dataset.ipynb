{
 "cells": [
  {
   "cell_type": "markdown",
   "id": "78ec0e63",
   "metadata": {},
   "source": [
    "# Question 1"
   ]
  },
  {
   "cell_type": "markdown",
   "id": "9a92a326",
   "metadata": {},
   "source": [
    "###  The URL of the dataset"
   ]
  },
  {
   "cell_type": "code",
   "execution_count": 63,
   "id": "9bfccc53",
   "metadata": {},
   "outputs": [],
   "source": [
    "Url20='https://databank.worldbank.org/source/world-development-indicators/Type/TABLE/preview/on'"
   ]
  },
  {
   "cell_type": "markdown",
   "id": "6f93c484",
   "metadata": {},
   "source": [
    "### A high level description of the data contained in the dataset."
   ]
  },
  {
   "cell_type": "raw",
   "id": "e71b3da3",
   "metadata": {},
   "source": [
    "The data is taken from Worl Bank Open Data. World Development Indicator Database has been selected in the World Bank open data. It would be a huge dictionary object when exported in Pandas. For every country, we are meauring values, a set of series, which is the criteria for measuing the country's development every year."
   ]
  },
  {
   "cell_type": "markdown",
   "id": "bd8c82fe",
   "metadata": {},
   "source": [
    "### A detailed description of the fields/columns in the dataset."
   ]
  },
  {
   "cell_type": "raw",
   "id": "1bd50ee7",
   "metadata": {},
   "source": [
    "These are the series name\n",
    "\n",
    "\n",
    "Adolescent fertility rate (births per 1,000 women ages 15-19)\n",
    "Agriculture, forestry, and fishing, value added (% of GDP)\n",
    "Annual freshwater withdrawals, total (% of internal resources)\n",
    "Births attended by skilled health staff (% of total)\n",
    "CO2 emissions (metric tons per capita)\n",
    "Contraceptive prevalence, any methods (% of women ages 15-49)\n",
    "Domestic credit provided by financial sector (% of GDP)\n",
    "Electric power consumption (kWh per capita)\n",
    "Energy use (kg of oil equivalent per capita)\n",
    "Exports of goods and services (% of GDP)\n",
    "External debt stocks, total (DOD, current US$)\n",
    "Fertility rate, total (births per woman)\n",
    "Foreign direct investment, net inflows (BoP, current US$)\n",
    "Forest area (sq. km)\n",
    "GDP (current US$)\n",
    "GDP growth (annual %)\n",
    "GNI per capita, Atlas method (current US$)\n",
    "GNI per capita, PPP (current international $)\n",
    "GNI, Atlas method (current US$)\n",
    "GNI, PPP (current international $)\n",
    "Gross capital formation (% of GDP)\n",
    "High-technology exports (% of manufactured exports)\n",
    "Immunization, measles (% of children ages 12-23 months)\n",
    "Imports of goods and services (% of GDP)\n",
    "Income share held by lowest 20%\n",
    "Industry (including construction), value added (% of GDP)\n",
    "Inflation, GDP deflator (annual %)\n",
    "Life expectancy at birth, total (years)\n",
    "Merchandise trade (% of GDP)\n",
    "Military expenditure (% of GDP)\n",
    "Mobile cellular subscriptions (per 100 people)\n",
    "Mortality rate, under-5 (per 1,000 live births)\n",
    "Net barter terms of trade index (2000 = 100)\n",
    "Net migration\n",
    "Net official development assistance and official aid received (current US$)\n",
    "Personal remittances, received (current US$)\n",
    "Population density (people per sq. km of land area)\n",
    "Population growth (annual %)\n",
    "Population, total\n",
    "Poverty headcount ratio at $1.90 a day (2011 PPP) (% of population)\n",
    "Poverty headcount ratio at national poverty lines (% of population)\n",
    "Prevalence of HIV, total (% of population ages 15-49)\n",
    "Prevalence of underweight, weight for age (% of children under 5)\n",
    "Primary completion rate, total (% of relevant age group)\n",
    "Revenue, excluding grants (% of GDP)\n",
    "School enrollment, primary (% gross)\n",
    "School enrollment, primary and secondary (gross), gender parity index (GPI)\n",
    "School enrollment, secondary (% gross)\n",
    "Statistical Capacity score (Overall average)\n",
    "Surface area (sq. km)\n",
    "Tax revenue (% of GDP)\n",
    "Terrestrial and marine protected areas (% of total territorial area)\n",
    "Time required to start a business (days)\n",
    "Total debt service (% of exports of goods, services and primary income)\n",
    "Urban population growth (annual %)\n"
   ]
  },
  {
   "cell_type": "markdown",
   "id": "31ff89cb",
   "metadata": {},
   "source": [
    "### The number of entries (records, rows) in the dataset"
   ]
  },
  {
   "cell_type": "raw",
   "id": "44ce6b0b",
   "metadata": {},
   "source": [
    "There are a total of 1100 rows in the table with 10 columns. These 55 entires above are all common for a country. Thus this is a development indicator for 20 countries"
   ]
  },
  {
   "cell_type": "markdown",
   "id": "2653fbbe",
   "metadata": {},
   "source": [
    "### The size in Kbyte or Mbyte of the dataset if available."
   ]
  },
  {
   "cell_type": "raw",
   "id": "d7a4d6f3",
   "metadata": {},
   "source": [
    "The Size of the file is 131 kb"
   ]
  },
  {
   "cell_type": "markdown",
   "id": "e47e2c28",
   "metadata": {},
   "source": [
    "###  The URL of the dataset"
   ]
  },
  {
   "cell_type": "code",
   "execution_count": 64,
   "id": "aaee4a5c",
   "metadata": {},
   "outputs": [],
   "source": [
    "URl10= 'https://databank.worldbank.org/data/download/IDS_CSV.zip'"
   ]
  },
  {
   "cell_type": "markdown",
   "id": "eef06827",
   "metadata": {},
   "source": [
    "### A high level description of the data contained in the dataset."
   ]
  },
  {
   "cell_type": "raw",
   "id": "513ddde8",
   "metadata": {},
   "source": [
    "Internation Debt Statistics from the world bank is the second dataset I have chosen. It provides a comprehensive picture of external borrowing and sources of lending by type of borrower and creditor with information on data availability and comparability. This includes data fom 136 countries adn 309 counter parts areas and 569 series of measurement indexes and a set of series of data. For the purposes of understanding only, I have taken only those indexes which calculate average of some sort. Those were 12 out of 569. This Debt Statistics data is from year 2020."
   ]
  },
  {
   "cell_type": "markdown",
   "id": "28001e3c",
   "metadata": {},
   "source": [
    "### A detailed description of the fields/columns in the dataset."
   ]
  },
  {
   "cell_type": "markdown",
   "id": "2dbd6b90",
   "metadata": {},
   "source": [
    "MeasurementIndexes\n",
    "Code\t     \tIndicator Name\n",
    "DT.GPA.DPPG\t\tAverage grace period on new external debt commitments (years)\n",
    "DT.GPA.OFFT\t\tAverage grace period on new external debt commitments, official (years)\n",
    "DT.GPA.PRVT\t\tAverage grace period on new external debt commitments, private (years)\n",
    "DT.GRE.DPPG\t\tAverage grant element on new external debt commitments (%)\n",
    "DT.GRE.OFFT\t\tAverage grant element on new external debt commitments, official (%)\n",
    "DT.GRE.PRVT\t\tAverage grant element on new external debt commitments, private (%)\n",
    "DT.INR.DPPG\t\tAverage interest on new external debt commitments (%)\n",
    "DT.INR.OFFT\t\tAverage interest on new external debt commitments, official (%)\n",
    "DT.INR.PRVT\t\tAverage interest on new external debt commitments, private (%)\n",
    "DT.MAT.DPPG\t\tAverage maturity on new external debt commitments (years)\n",
    "DT.MAT.OFFT\t\tAverage maturity on new external debt commitments, official (years)\n",
    "DT.MAT.PRVT\t\tAverage maturity on new external debt commitments, private (years)"
   ]
  },
  {
   "cell_type": "markdown",
   "id": "7ad7c65e",
   "metadata": {},
   "source": [
    "When we click on the URL, we download the whole dataset with 1 CSV having all the data and the other CSV with supporting metadata. We have 5 supporting CSV which act as a refernce table or metadata table for the main excel--All Countries Data CSV\n",
    "The 5 supporting ones are :- CountryMetaData,Country-SeriesMetaData,Footnotes,SeriesMetaData,Series-TimeMetaData. Series-TimeMetaData when opened tells us that this IDS(internation Debt Analysis) is only for year 2020"
   ]
  },
  {
   "cell_type": "markdown",
   "id": "7d735bc1",
   "metadata": {},
   "source": [
    "### The number of entries (records, rows) in the dataset"
   ]
  },
  {
   "cell_type": "markdown",
   "id": "960a1d1e",
   "metadata": {},
   "source": [
    "rows are 2924160 when series are not filtered. After filtering the 12 series we get 84717 rows. The number of columns are different because we have the codes which reference multiple metadata tables. Thus if We had to find the column numbers, we would have to join all the tables via SQL. "
   ]
  },
  {
   "cell_type": "markdown",
   "id": "83ac1caf",
   "metadata": {},
   "source": [
    "### The size in Kbyte or Mbyte of the dataset if available."
   ]
  },
  {
   "cell_type": "markdown",
   "id": "62e26fbb",
   "metadata": {},
   "source": [
    "10MB is the tota file size in compressed state with 569 series. When we copy the data into another excel, in the uncompressed state, data is reduced to 7KB without any metadata"
   ]
  },
  {
   "cell_type": "markdown",
   "id": "5d87a51a",
   "metadata": {},
   "source": [
    "# Question 2"
   ]
  },
  {
   "cell_type": "code",
   "execution_count": 65,
   "id": "c1561bd3",
   "metadata": {},
   "outputs": [],
   "source": [
    "import numpy as np\n",
    "import pandas as pd"
   ]
  },
  {
   "cell_type": "code",
   "execution_count": 82,
   "id": "c4731b28",
   "metadata": {},
   "outputs": [],
   "source": [
    "import requests\n",
    "%matplotlib inline"
   ]
  },
  {
   "cell_type": "markdown",
   "id": "de145938",
   "metadata": {},
   "source": [
    "Both of the below URLs are from api.data.gov where I have called data from PubAg Database. It contains full-article texts relevent to agricultural sciences. It also contains citations to peer reviewed journal articles with links to publisher sites and elsewhere for full texts. According to the instruction of website , we should follow the following syntax while querying.\n"
   ]
  },
  {
   "cell_type": "code",
   "execution_count": null,
   "id": "09bdbbb9",
   "metadata": {},
   "outputs": [],
   "source": [
    "syntax = 'https://api.nal.usda.gov/pubag/rest/search/?query={}[&parameters.'"
   ]
  },
  {
   "cell_type": "markdown",
   "id": "96963f60",
   "metadata": {},
   "source": [
    "I Chose queries in such a way that first we select the author to be Anderson and in the second query i chose the publication year to be 2010. \n",
    "Obviously you see these things when you observe the resultList parameter. it is a list parameter which contains multiple objects. Size of resultList is 20. Document as a whole has totalPages=174392 with pageSize=20. Api_key is the key required to access the api.nam.usda.gov/pubag database. There are also other api.data.gov API keys but only DEMO_KEY has been mentioned since it is sufficient for exploratory purposes. \n",
    "\n",
    "Both the Queries are Get Queries. Data has been passed in the headers with each query having a common header variable ->'api_key'."
   ]
  },
  {
   "cell_type": "code",
   "execution_count": 67,
   "id": "d9059c1e",
   "metadata": {},
   "outputs": [],
   "source": [
    "\n",
    "url3='https://api.nal.usda.gov/pubag/rest/search/?query=author:anderson&api_key=DEMO_KEY'\n",
    "\n",
    "url7='https://api.nal.usda.gov/pubag/rest/search/?query=publication_year:2010&api_key=DEMO_KEY'"
   ]
  },
  {
   "cell_type": "code",
   "execution_count": 68,
   "id": "890b0441",
   "metadata": {},
   "outputs": [],
   "source": [
    "import json\n",
    "#print(json.dumps(data, indent=1))"
   ]
  },
  {
   "cell_type": "code",
   "execution_count": 73,
   "id": "d9627690",
   "metadata": {},
   "outputs": [],
   "source": [
    "# I am following the guidelines given in data.gov \n",
    "response3 = requests.get(url3)\n"
   ]
  },
  {
   "cell_type": "code",
   "execution_count": 74,
   "id": "0a0cf8b2",
   "metadata": {},
   "outputs": [
    {
     "name": "stdout",
     "output_type": "stream",
     "text": [
      "200\n"
     ]
    }
   ],
   "source": [
    "print(response3.status_code)"
   ]
  },
  {
   "cell_type": "code",
   "execution_count": 150,
   "id": "1fed7955",
   "metadata": {},
   "outputs": [],
   "source": [
    "data3= response3.json()\n",
    "#commenting out below code because not asked in the question. Used this to analyze the data.\n",
    "#print(json.dumps(data3,indent=1))"
   ]
  },
  {
   "cell_type": "code",
   "execution_count": 159,
   "id": "7609be1c",
   "metadata": {},
   "outputs": [
    {
     "data": {
      "text/plain": [
       "{'id': '7375869',\n",
       " 'agid': ['7375869'],\n",
       " 'title': 'The Case for Direct Measures of Soil-to-Groundwater Contaminant Mass Discharge at AFFF-Impacted Sites',\n",
       " 'timestamp': '2021-09-19T20:39:44Z',\n",
       " 'author': ['Anderson, Richard H.'],\n",
       " 'author_primary': 'Anderson, Richard H.',\n",
       " 'subject': ['foams',\n",
       "  'groundwater',\n",
       "  'hydrophobicity',\n",
       "  'ingestion',\n",
       "  'lysimetry',\n",
       "  'soil',\n",
       "  'soil remediation',\n",
       "  'technology',\n",
       "  'vadose zone'],\n",
       " 'source': '2021 v.55 no.10',\n",
       " 'journal': 'Environmental science & technology',\n",
       " 'abstract': 'Many entities around the world are initiating massive field campaigns to characterize the environmental distribution of per- and polyfluoroalkyl substances (PFAS), particularly at aqueous film-forming foam (AFFF) impacted sites where historic point-source discharges occurred at the ground surface. Concurrently, many regulatory agencies are publishing criteria used in practice to define the “nature and extent” of PFAS-impacted environmental media. Specific to the soil-to-groundwater transport pathway protective of the groundwater ingestion end point, these soil criteria (or screening values) are to date exclusively based on the traditional approach used for hydrophobic organics with a number of simplifying assumptions. Research has clearly contradicted these assumptions, yet alternative methodologies have yet to emerge from the literature. This Perspective provides a rationale for why alternative approaches are critically necessary and proposes the application of lysimetry as a practical solution to accurately assess PFAS transport within unsaturated vadose zone soils. Ultimately, there is an urgent need to justify soil remediation on the basis of groundwater protection and to prioritize remedial efforts in order to optimize limited fiscal resources.',\n",
       " 'date': '2021-04-28',\n",
       " 'publication_year': '2021',\n",
       " 'publication_year_rev': '7979-2021',\n",
       " 'issn': '1520-5851',\n",
       " 'type': 'article',\n",
       " 'issue': 'no. 10',\n",
       " 'volume': 'v. 55',\n",
       " 'startpage': '6580',\n",
       " 'endpage': '6583',\n",
       " 'pageoffset': '3',\n",
       " 'page': 'pp. 6580-6583',\n",
       " 'doi_url': 'http://dx.doi.org/10.1021/acs.est.1c01543',\n",
       " 'doi': '10.1021/acs.est.1c01543',\n",
       " 'text_availability': ['Citation in PubAg'],\n",
       " 'language': ['']}"
      ]
     },
     "execution_count": 159,
     "metadata": {},
     "output_type": "execute_result"
    }
   ],
   "source": [
    "data3['resultList'][1]"
   ]
  },
  {
   "cell_type": "code",
   "execution_count": 120,
   "id": "896f1868",
   "metadata": {},
   "outputs": [],
   "source": [
    "df3=pd.DataFrame(data3['resultList'])"
   ]
  },
  {
   "cell_type": "code",
   "execution_count": 147,
   "id": "2fa941ee",
   "metadata": {},
   "outputs": [
    {
     "data": {
      "text/html": [
       "<div>\n",
       "<style scoped>\n",
       "    .dataframe tbody tr th:only-of-type {\n",
       "        vertical-align: middle;\n",
       "    }\n",
       "\n",
       "    .dataframe tbody tr th {\n",
       "        vertical-align: top;\n",
       "    }\n",
       "\n",
       "    .dataframe thead th {\n",
       "        text-align: right;\n",
       "    }\n",
       "</style>\n",
       "<table border=\"1\" class=\"dataframe\">\n",
       "  <thead>\n",
       "    <tr style=\"text-align: right;\">\n",
       "      <th></th>\n",
       "      <th>id</th>\n",
       "      <th>agid</th>\n",
       "      <th>title</th>\n",
       "      <th>timestamp</th>\n",
       "      <th>author</th>\n",
       "      <th>author_primary</th>\n",
       "      <th>subject</th>\n",
       "      <th>source</th>\n",
       "      <th>journal</th>\n",
       "      <th>abstract</th>\n",
       "      <th>...</th>\n",
       "      <th>volume</th>\n",
       "      <th>startpage</th>\n",
       "      <th>endpage</th>\n",
       "      <th>pageoffset</th>\n",
       "      <th>page</th>\n",
       "      <th>doi_url</th>\n",
       "      <th>doi</th>\n",
       "      <th>text_availability</th>\n",
       "      <th>language</th>\n",
       "      <th>issue</th>\n",
       "    </tr>\n",
       "  </thead>\n",
       "  <tbody>\n",
       "    <tr>\n",
       "      <th>0</th>\n",
       "      <td>7392521</td>\n",
       "      <td>[7392521]</td>\n",
       "      <td>Solid waste management in western Canadian Fir...</td>\n",
       "      <td>2021-09-19T20:51:41Z</td>\n",
       "      <td>[Assuah, Anderson, Sinclair, A.J.]</td>\n",
       "      <td>Assuah, Anderson</td>\n",
       "      <td>[case studies, community service, infrastructu...</td>\n",
       "      <td>2021 v.129</td>\n",
       "      <td>Waste management</td>\n",
       "      <td>This research examined solid waste management ...</td>\n",
       "      <td>...</td>\n",
       "      <td>v. 129</td>\n",
       "      <td>54</td>\n",
       "      <td>61</td>\n",
       "      <td>7</td>\n",
       "      <td>pp. 54-61</td>\n",
       "      <td>https://dx.doi.org/10.1016/j.wasman.2021.05.007</td>\n",
       "      <td>10.1016/j.wasman.2021.05.007</td>\n",
       "      <td>[Citation in PubAg]</td>\n",
       "      <td>[]</td>\n",
       "      <td>NaN</td>\n",
       "    </tr>\n",
       "    <tr>\n",
       "      <th>1</th>\n",
       "      <td>7375869</td>\n",
       "      <td>[7375869]</td>\n",
       "      <td>The Case for Direct Measures of Soil-to-Ground...</td>\n",
       "      <td>2021-09-19T20:39:44Z</td>\n",
       "      <td>[Anderson, Richard H.]</td>\n",
       "      <td>Anderson, Richard H.</td>\n",
       "      <td>[foams, groundwater, hydrophobicity, ingestion...</td>\n",
       "      <td>2021 v.55 no.10</td>\n",
       "      <td>Environmental science &amp; technology</td>\n",
       "      <td>Many entities around the world are initiating ...</td>\n",
       "      <td>...</td>\n",
       "      <td>v. 55</td>\n",
       "      <td>6580</td>\n",
       "      <td>6583</td>\n",
       "      <td>3</td>\n",
       "      <td>pp. 6580-6583</td>\n",
       "      <td>http://dx.doi.org/10.1021/acs.est.1c01543</td>\n",
       "      <td>10.1021/acs.est.1c01543</td>\n",
       "      <td>[Citation in PubAg]</td>\n",
       "      <td>[]</td>\n",
       "      <td>no. 10</td>\n",
       "    </tr>\n",
       "    <tr>\n",
       "      <th>2</th>\n",
       "      <td>7368157</td>\n",
       "      <td>[7368157]</td>\n",
       "      <td>Assay of the Enzymes of Glutathione Biosynthesis</td>\n",
       "      <td>2021-09-19T20:34:05Z</td>\n",
       "      <td>[Anderson, Mary E.]</td>\n",
       "      <td>Anderson, Mary E.</td>\n",
       "      <td>[biosynthesis, enzymology, glutathione, glutat...</td>\n",
       "      <td>2021</td>\n",
       "      <td>Analytical biochemistry</td>\n",
       "      <td>This article is dedicated to the late long-tim...</td>\n",
       "      <td>...</td>\n",
       "      <td>NaN</td>\n",
       "      <td>114218</td>\n",
       "      <td>NaN</td>\n",
       "      <td>NaN</td>\n",
       "      <td>NaN</td>\n",
       "      <td>http://dx.doi.org/10.1016/j.ab.2021.114218</td>\n",
       "      <td>10.1016/j.ab.2021.114218</td>\n",
       "      <td>[Citation in PubAg]</td>\n",
       "      <td>[]</td>\n",
       "      <td>NaN</td>\n",
       "    </tr>\n",
       "    <tr>\n",
       "      <th>3</th>\n",
       "      <td>7354550</td>\n",
       "      <td>[7354550]</td>\n",
       "      <td>What impact are subsidies and trade barriers a...</td>\n",
       "      <td>2021-09-19T20:23:49Z</td>\n",
       "      <td>[Anderson, Kym, Valenzuela, Ernesto]</td>\n",
       "      <td>Anderson, Kym</td>\n",
       "      <td>[databases, farmers, farms, imports, market ac...</td>\n",
       "      <td>2021 v.65 no.2</td>\n",
       "      <td>The Australian journal of agricultural and res...</td>\n",
       "      <td>This paper provides new estimates of the exten...</td>\n",
       "      <td>...</td>\n",
       "      <td>v. 65</td>\n",
       "      <td>265</td>\n",
       "      <td>290</td>\n",
       "      <td>25</td>\n",
       "      <td>pp. 265-290</td>\n",
       "      <td>http://dx.doi.org/10.1111/1467-8489.12413</td>\n",
       "      <td>10.1111/1467-8489.12413</td>\n",
       "      <td>[Citation in PubAg]</td>\n",
       "      <td>[]</td>\n",
       "      <td>no. 2</td>\n",
       "    </tr>\n",
       "    <tr>\n",
       "      <th>4</th>\n",
       "      <td>7287464</td>\n",
       "      <td>[7287464]</td>\n",
       "      <td>How food in the commons can help to address in...</td>\n",
       "      <td>2021-09-19T19:32:43Z</td>\n",
       "      <td>[Anderson, Molly D.]</td>\n",
       "      <td>Anderson, Molly D.</td>\n",
       "      <td>[COVID-19 infection, food security, healthy di...</td>\n",
       "      <td>2021 v.4 no.2</td>\n",
       "      <td>One earth</td>\n",
       "      <td>Coronavirus disease 2019 (COVID-19) has exacer...</td>\n",
       "      <td>...</td>\n",
       "      <td>v. 4</td>\n",
       "      <td>165</td>\n",
       "      <td>167</td>\n",
       "      <td>2</td>\n",
       "      <td>pp. 165-167</td>\n",
       "      <td>https://dx.doi.org/10.1016/j.oneear.2021.01.018</td>\n",
       "      <td>10.1016/j.oneear.2021.01.018</td>\n",
       "      <td>[Citation in PubAg]</td>\n",
       "      <td>[]</td>\n",
       "      <td>no. 2</td>\n",
       "    </tr>\n",
       "  </tbody>\n",
       "</table>\n",
       "<p>5 rows × 25 columns</p>\n",
       "</div>"
      ],
      "text/plain": [
       "        id       agid                                              title  \\\n",
       "0  7392521  [7392521]  Solid waste management in western Canadian Fir...   \n",
       "1  7375869  [7375869]  The Case for Direct Measures of Soil-to-Ground...   \n",
       "2  7368157  [7368157]   Assay of the Enzymes of Glutathione Biosynthesis   \n",
       "3  7354550  [7354550]  What impact are subsidies and trade barriers a...   \n",
       "4  7287464  [7287464]  How food in the commons can help to address in...   \n",
       "\n",
       "              timestamp                                author  \\\n",
       "0  2021-09-19T20:51:41Z    [Assuah, Anderson, Sinclair, A.J.]   \n",
       "1  2021-09-19T20:39:44Z                [Anderson, Richard H.]   \n",
       "2  2021-09-19T20:34:05Z                   [Anderson, Mary E.]   \n",
       "3  2021-09-19T20:23:49Z  [Anderson, Kym, Valenzuela, Ernesto]   \n",
       "4  2021-09-19T19:32:43Z                  [Anderson, Molly D.]   \n",
       "\n",
       "         author_primary                                            subject  \\\n",
       "0      Assuah, Anderson  [case studies, community service, infrastructu...   \n",
       "1  Anderson, Richard H.  [foams, groundwater, hydrophobicity, ingestion...   \n",
       "2     Anderson, Mary E.  [biosynthesis, enzymology, glutathione, glutat...   \n",
       "3         Anderson, Kym  [databases, farmers, farms, imports, market ac...   \n",
       "4    Anderson, Molly D.  [COVID-19 infection, food security, healthy di...   \n",
       "\n",
       "            source                                            journal  \\\n",
       "0       2021 v.129                                   Waste management   \n",
       "1  2021 v.55 no.10                 Environmental science & technology   \n",
       "2             2021                            Analytical biochemistry   \n",
       "3   2021 v.65 no.2  The Australian journal of agricultural and res...   \n",
       "4    2021 v.4 no.2                                          One earth   \n",
       "\n",
       "                                            abstract  ...  volume startpage  \\\n",
       "0  This research examined solid waste management ...  ...  v. 129        54   \n",
       "1  Many entities around the world are initiating ...  ...   v. 55      6580   \n",
       "2  This article is dedicated to the late long-tim...  ...     NaN    114218   \n",
       "3  This paper provides new estimates of the exten...  ...   v. 65       265   \n",
       "4  Coronavirus disease 2019 (COVID-19) has exacer...  ...    v. 4       165   \n",
       "\n",
       "  endpage pageoffset           page  \\\n",
       "0      61          7      pp. 54-61   \n",
       "1    6583          3  pp. 6580-6583   \n",
       "2     NaN        NaN            NaN   \n",
       "3     290         25    pp. 265-290   \n",
       "4     167          2    pp. 165-167   \n",
       "\n",
       "                                           doi_url  \\\n",
       "0  https://dx.doi.org/10.1016/j.wasman.2021.05.007   \n",
       "1        http://dx.doi.org/10.1021/acs.est.1c01543   \n",
       "2       http://dx.doi.org/10.1016/j.ab.2021.114218   \n",
       "3        http://dx.doi.org/10.1111/1467-8489.12413   \n",
       "4  https://dx.doi.org/10.1016/j.oneear.2021.01.018   \n",
       "\n",
       "                            doi    text_availability language   issue  \n",
       "0  10.1016/j.wasman.2021.05.007  [Citation in PubAg]       []     NaN  \n",
       "1       10.1021/acs.est.1c01543  [Citation in PubAg]       []  no. 10  \n",
       "2      10.1016/j.ab.2021.114218  [Citation in PubAg]       []     NaN  \n",
       "3       10.1111/1467-8489.12413  [Citation in PubAg]       []   no. 2  \n",
       "4  10.1016/j.oneear.2021.01.018  [Citation in PubAg]       []   no. 2  \n",
       "\n",
       "[5 rows x 25 columns]"
      ]
     },
     "execution_count": 147,
     "metadata": {},
     "output_type": "execute_result"
    }
   ],
   "source": [
    "df3.head(5)"
   ]
  },
  {
   "cell_type": "code",
   "execution_count": 149,
   "id": "ad762700",
   "metadata": {},
   "outputs": [
    {
     "data": {
      "text/plain": [
       "15    [Anderson, Nicholas L., Harmon-Threatt, Alexan...\n",
       "16      [Alegbeleye, Oluwadara O, Sant’Ana, Anderson S]\n",
       "17       [Liggins, Libby, Hudson, Māui, Anderson, Jane]\n",
       "18      [Midgley, Meghan, Anderson, Elsa, Minor, Emily]\n",
       "19    [Aminnaji, Morteza, Anderson, Ross, Tohidi, Ba...\n",
       "Name: author, dtype: object"
      ]
     },
     "execution_count": 149,
     "metadata": {},
     "output_type": "execute_result"
    }
   ],
   "source": [
    "# you can see this according to the query that all the entries have the anderson keyword.\n",
    "df3['author'].tail(5)"
   ]
  },
  {
   "cell_type": "code",
   "execution_count": 117,
   "id": "81b0aba7",
   "metadata": {},
   "outputs": [],
   "source": [
    "response4=requests.get(url7)\n",
    "data4 = response4.json()"
   ]
  },
  {
   "cell_type": "code",
   "execution_count": 118,
   "id": "2991d89b",
   "metadata": {},
   "outputs": [
    {
     "name": "stdout",
     "output_type": "stream",
     "text": [
      "200\n"
     ]
    }
   ],
   "source": [
    "print(response4.status_code)"
   ]
  },
  {
   "cell_type": "code",
   "execution_count": 152,
   "id": "8e1f106a",
   "metadata": {},
   "outputs": [],
   "source": [
    "#data"
   ]
  },
  {
   "cell_type": "code",
   "execution_count": 141,
   "id": "dfef7b26",
   "metadata": {},
   "outputs": [
    {
     "data": {
      "text/plain": [
       "{'id': '463436',\n",
       " 'agid': ['463436'],\n",
       " 'title': 'Does lamb promotion work',\n",
       " 'timestamp': '2021-10-11T19:31:19Z',\n",
       " 'author': ['Williams, Gary W.', 'Capps, Oral Jr.', 'Dang, Trang'],\n",
       " 'author_primary': 'Williams, Gary W.',\n",
       " 'subject': ['sheep industry',\n",
       "  'imports',\n",
       "  'cost benefit analysis',\n",
       "  'advertising',\n",
       "  'econometrics',\n",
       "  'United States'],\n",
       " 'source': '2010 v.26 no.4',\n",
       " 'journal': 'Agribusiness',\n",
       " 'abstract': 'Three key questions regarding lamb promotion are addressed: (a) Have industry efforts to promote lamb shifted out the total demand for lamb? (b) Have any returns to producers achieved been greater than the cost of the promotion? (c) What has been the effect of lamb promotion on the lamb import share? The first question is addressed through an econometric analysis of the U.S. retail demand for lamb, which takes into account the effects of lamb advertising and promotion expenditures. The results then are used to calculate a benefit-cost ratio for lamb promotion in answer to the second question. An econometric analysis of the import share of U.S. lamb consumption provides the basis for addressing the third question. Lamb promotion is found to have increased the demand for lamb, and particularly American lamb, generating in the process a highly positive return to producers relative to the small cost of the program. [EconLit Classification: D11, D12, Q13, Q17, Q18].',\n",
       " 'date': '2010-23',\n",
       " 'publication_year': '2010',\n",
       " 'publication_year_rev': '7990-2010',\n",
       " 'issn': '0742-4477',\n",
       " 'type': 'article',\n",
       " 'issue': 'no. 4',\n",
       " 'volume': 'v. 26',\n",
       " 'startpage': '536',\n",
       " 'endpage': '556',\n",
       " 'pageoffset': '20',\n",
       " 'page': 'pp. 536-556',\n",
       " 'doi_url': 'http://dx.doi.org/10.1002/agr.20228',\n",
       " 'doi': '10.1002/agr.20228',\n",
       " 'text_availability': ['Citation in PubAg'],\n",
       " 'language': ['']}"
      ]
     },
     "execution_count": 141,
     "metadata": {},
     "output_type": "execute_result"
    }
   ],
   "source": [
    "data4['resultList'][1]"
   ]
  },
  {
   "cell_type": "code",
   "execution_count": 142,
   "id": "21561955",
   "metadata": {},
   "outputs": [],
   "source": [
    "df4=pd.DataFrame(data4['resultList'])"
   ]
  },
  {
   "cell_type": "code",
   "execution_count": 143,
   "id": "9ca130f0",
   "metadata": {},
   "outputs": [
    {
     "name": "stdout",
     "output_type": "stream",
     "text": [
      "<class 'pandas.core.frame.DataFrame'>\n",
      "RangeIndex: 20 entries, 0 to 19\n",
      "Data columns (total 30 columns):\n",
      " #   Column                Non-Null Count  Dtype \n",
      "---  ------                --------------  ----- \n",
      " 0   id                    20 non-null     object\n",
      " 1   agid                  20 non-null     object\n",
      " 2   title                 20 non-null     object\n",
      " 3   timestamp             20 non-null     object\n",
      " 4   author                20 non-null     object\n",
      " 5   author_primary        20 non-null     object\n",
      " 6   subject               20 non-null     object\n",
      " 7   source                20 non-null     object\n",
      " 8   journal               20 non-null     object\n",
      " 9   abstract              20 non-null     object\n",
      " 10  date                  20 non-null     object\n",
      " 11  publication_year      20 non-null     object\n",
      " 12  publication_year_rev  20 non-null     object\n",
      " 13  issn                  20 non-null     object\n",
      " 14  type                  13 non-null     object\n",
      " 15  volume                20 non-null     object\n",
      " 16  startpage             20 non-null     object\n",
      " 17  endpage               20 non-null     object\n",
      " 18  pageoffset            19 non-null     object\n",
      " 19  page                  20 non-null     object\n",
      " 20  handle_url            1 non-null      object\n",
      " 21  handle                1 non-null      object\n",
      " 22  doi_url               20 non-null     object\n",
      " 23  doi                   20 non-null     object\n",
      " 24  files_ss              1 non-null      object\n",
      " 25  pmid                  1 non-null      object\n",
      " 26  pmid_url              1 non-null      object\n",
      " 27  text_availability     20 non-null     object\n",
      " 28  language              20 non-null     object\n",
      " 29  issue                 16 non-null     object\n",
      "dtypes: object(30)\n",
      "memory usage: 4.8+ KB\n"
     ]
    }
   ],
   "source": [
    "df4.info()"
   ]
  },
  {
   "cell_type": "code",
   "execution_count": 157,
   "id": "be234fe4",
   "metadata": {},
   "outputs": [
    {
     "data": {
      "text/plain": [
       "15    2010\n",
       "16    2010\n",
       "17    2010\n",
       "18    2010\n",
       "19    2010\n",
       "Name: publication_year, dtype: object"
      ]
     },
     "execution_count": 157,
     "metadata": {},
     "output_type": "execute_result"
    }
   ],
   "source": [
    "df4['publication_year'].tail(5)"
   ]
  },
  {
   "cell_type": "code",
   "execution_count": 158,
   "id": "821341a2",
   "metadata": {},
   "outputs": [
    {
     "data": {
      "text/html": [
       "<div>\n",
       "<style scoped>\n",
       "    .dataframe tbody tr th:only-of-type {\n",
       "        vertical-align: middle;\n",
       "    }\n",
       "\n",
       "    .dataframe tbody tr th {\n",
       "        vertical-align: top;\n",
       "    }\n",
       "\n",
       "    .dataframe thead th {\n",
       "        text-align: right;\n",
       "    }\n",
       "</style>\n",
       "<table border=\"1\" class=\"dataframe\">\n",
       "  <thead>\n",
       "    <tr style=\"text-align: right;\">\n",
       "      <th></th>\n",
       "      <th>id</th>\n",
       "      <th>agid</th>\n",
       "      <th>title</th>\n",
       "      <th>timestamp</th>\n",
       "      <th>author</th>\n",
       "      <th>author_primary</th>\n",
       "      <th>subject</th>\n",
       "      <th>source</th>\n",
       "      <th>journal</th>\n",
       "      <th>abstract</th>\n",
       "      <th>...</th>\n",
       "      <th>handle_url</th>\n",
       "      <th>handle</th>\n",
       "      <th>doi_url</th>\n",
       "      <th>doi</th>\n",
       "      <th>files_ss</th>\n",
       "      <th>pmid</th>\n",
       "      <th>pmid_url</th>\n",
       "      <th>text_availability</th>\n",
       "      <th>language</th>\n",
       "      <th>issue</th>\n",
       "    </tr>\n",
       "  </thead>\n",
       "  <tbody>\n",
       "    <tr>\n",
       "      <th>0</th>\n",
       "      <td>58075</td>\n",
       "      <td>[58075]</td>\n",
       "      <td>Histomorphometric and microchemical characteri...</td>\n",
       "      <td>2018-10-18T03:37:25Z</td>\n",
       "      <td>[Haro Durand, Luis A., Mesones, Rosa Vera, Nie...</td>\n",
       "      <td>Haro Durand, Luis A.</td>\n",
       "      <td>[X-radiation, body weight, boron, enamel, food...</td>\n",
       "      <td>2010 v.135</td>\n",
       "      <td>Biological Trace Element Research</td>\n",
       "      <td>Few reports are available in the literature on...</td>\n",
       "      <td>...</td>\n",
       "      <td>https://handle.nal.usda.gov/10113/58075</td>\n",
       "      <td>10113/58075</td>\n",
       "      <td>http://dx.doi.org/10.1007/s12011-009-8512-9</td>\n",
       "      <td>10.1007/s12011-009-8512-9</td>\n",
       "      <td>[{\"dsId\":\"PDF\",\"order\":\"1\",\"title\":\"Histomorph...</td>\n",
       "      <td>19756402</td>\n",
       "      <td>http://www.ncbi.nlm.nih.gov/pubmed/?term=19756402</td>\n",
       "      <td>[Full Text]</td>\n",
       "      <td>[]</td>\n",
       "      <td>NaN</td>\n",
       "    </tr>\n",
       "    <tr>\n",
       "      <th>1</th>\n",
       "      <td>463436</td>\n",
       "      <td>[463436]</td>\n",
       "      <td>Does lamb promotion work</td>\n",
       "      <td>2021-10-11T19:31:19Z</td>\n",
       "      <td>[Williams, Gary W., Capps, Oral Jr., Dang, Trang]</td>\n",
       "      <td>Williams, Gary W.</td>\n",
       "      <td>[sheep industry, imports, cost benefit analysi...</td>\n",
       "      <td>2010 v.26 no.4</td>\n",
       "      <td>Agribusiness</td>\n",
       "      <td>Three key questions regarding lamb promotion a...</td>\n",
       "      <td>...</td>\n",
       "      <td>NaN</td>\n",
       "      <td>NaN</td>\n",
       "      <td>http://dx.doi.org/10.1002/agr.20228</td>\n",
       "      <td>10.1002/agr.20228</td>\n",
       "      <td>NaN</td>\n",
       "      <td>NaN</td>\n",
       "      <td>NaN</td>\n",
       "      <td>[Citation in PubAg]</td>\n",
       "      <td>[]</td>\n",
       "      <td>no. 4</td>\n",
       "    </tr>\n",
       "    <tr>\n",
       "      <th>2</th>\n",
       "      <td>433949</td>\n",
       "      <td>[433949]</td>\n",
       "      <td>Hedonic wine price predictions and nonnormal e...</td>\n",
       "      <td>2017-02-22T09:15:45Z</td>\n",
       "      <td>[Oczkowski, Edward]</td>\n",
       "      <td>Oczkowski, Edward</td>\n",
       "      <td>[data collection, prices, wines]</td>\n",
       "      <td>2010 v.26 no.4</td>\n",
       "      <td>Agribusiness</td>\n",
       "      <td>This paper considers using nonnormal error dis...</td>\n",
       "      <td>...</td>\n",
       "      <td>NaN</td>\n",
       "      <td>NaN</td>\n",
       "      <td>http://dx.doi.org/10.1002/agr.20237</td>\n",
       "      <td>10.1002/agr.20237</td>\n",
       "      <td>NaN</td>\n",
       "      <td>NaN</td>\n",
       "      <td>NaN</td>\n",
       "      <td>[Citation in PubAg]</td>\n",
       "      <td>[]</td>\n",
       "      <td>no. 4</td>\n",
       "    </tr>\n",
       "    <tr>\n",
       "      <th>3</th>\n",
       "      <td>544745</td>\n",
       "      <td>[544745]</td>\n",
       "      <td>How European consumers define the concept of t...</td>\n",
       "      <td>2017-02-22T15:59:04Z</td>\n",
       "      <td>[Vanhonacker, Filiep, Verbeke, Wim, Guerrero, ...</td>\n",
       "      <td>Vanhonacker, Filiep</td>\n",
       "      <td>[celebrations, markets, sensory properties, su...</td>\n",
       "      <td>2010 v.26 no.4</td>\n",
       "      <td>Agribusiness</td>\n",
       "      <td>Within the European food market, traditional f...</td>\n",
       "      <td>...</td>\n",
       "      <td>NaN</td>\n",
       "      <td>NaN</td>\n",
       "      <td>http://dx.doi.org/10.1002/agr.20241</td>\n",
       "      <td>10.1002/agr.20241</td>\n",
       "      <td>NaN</td>\n",
       "      <td>NaN</td>\n",
       "      <td>NaN</td>\n",
       "      <td>[Citation in PubAg]</td>\n",
       "      <td>[]</td>\n",
       "      <td>no. 4</td>\n",
       "    </tr>\n",
       "    <tr>\n",
       "      <th>4</th>\n",
       "      <td>555102</td>\n",
       "      <td>[555102]</td>\n",
       "      <td>Offsetting behavior and the benefits of food s...</td>\n",
       "      <td>2021-10-11T06:46:52Z</td>\n",
       "      <td>[Nganje, William, Miljkovic, Dragan, Ndembe, E...</td>\n",
       "      <td>Nganje, William</td>\n",
       "      <td>[diet-related diseases, health policy, HACCP, ...</td>\n",
       "      <td>2010 v.26 no.4</td>\n",
       "      <td>Agribusiness</td>\n",
       "      <td>Outbreaks of foodborne illnesses have an effec...</td>\n",
       "      <td>...</td>\n",
       "      <td>NaN</td>\n",
       "      <td>NaN</td>\n",
       "      <td>http://dx.doi.org/10.1002/agr.20240</td>\n",
       "      <td>10.1002/agr.20240</td>\n",
       "      <td>NaN</td>\n",
       "      <td>NaN</td>\n",
       "      <td>NaN</td>\n",
       "      <td>[Citation in PubAg]</td>\n",
       "      <td>[]</td>\n",
       "      <td>no. 4</td>\n",
       "    </tr>\n",
       "  </tbody>\n",
       "</table>\n",
       "<p>5 rows × 30 columns</p>\n",
       "</div>"
      ],
      "text/plain": [
       "       id      agid                                              title  \\\n",
       "0   58075   [58075]  Histomorphometric and microchemical characteri...   \n",
       "1  463436  [463436]                           Does lamb promotion work   \n",
       "2  433949  [433949]  Hedonic wine price predictions and nonnormal e...   \n",
       "3  544745  [544745]  How European consumers define the concept of t...   \n",
       "4  555102  [555102]  Offsetting behavior and the benefits of food s...   \n",
       "\n",
       "              timestamp                                             author  \\\n",
       "0  2018-10-18T03:37:25Z  [Haro Durand, Luis A., Mesones, Rosa Vera, Nie...   \n",
       "1  2021-10-11T19:31:19Z  [Williams, Gary W., Capps, Oral Jr., Dang, Trang]   \n",
       "2  2017-02-22T09:15:45Z                                [Oczkowski, Edward]   \n",
       "3  2017-02-22T15:59:04Z  [Vanhonacker, Filiep, Verbeke, Wim, Guerrero, ...   \n",
       "4  2021-10-11T06:46:52Z  [Nganje, William, Miljkovic, Dragan, Ndembe, E...   \n",
       "\n",
       "         author_primary                                            subject  \\\n",
       "0  Haro Durand, Luis A.  [X-radiation, body weight, boron, enamel, food...   \n",
       "1     Williams, Gary W.  [sheep industry, imports, cost benefit analysi...   \n",
       "2     Oczkowski, Edward                   [data collection, prices, wines]   \n",
       "3   Vanhonacker, Filiep  [celebrations, markets, sensory properties, su...   \n",
       "4       Nganje, William  [diet-related diseases, health policy, HACCP, ...   \n",
       "\n",
       "           source                            journal  \\\n",
       "0      2010 v.135  Biological Trace Element Research   \n",
       "1  2010 v.26 no.4                       Agribusiness   \n",
       "2  2010 v.26 no.4                       Agribusiness   \n",
       "3  2010 v.26 no.4                       Agribusiness   \n",
       "4  2010 v.26 no.4                       Agribusiness   \n",
       "\n",
       "                                            abstract  ...  \\\n",
       "0  Few reports are available in the literature on...  ...   \n",
       "1  Three key questions regarding lamb promotion a...  ...   \n",
       "2  This paper considers using nonnormal error dis...  ...   \n",
       "3  Within the European food market, traditional f...  ...   \n",
       "4  Outbreaks of foodborne illnesses have an effec...  ...   \n",
       "\n",
       "                                handle_url       handle  \\\n",
       "0  https://handle.nal.usda.gov/10113/58075  10113/58075   \n",
       "1                                      NaN          NaN   \n",
       "2                                      NaN          NaN   \n",
       "3                                      NaN          NaN   \n",
       "4                                      NaN          NaN   \n",
       "\n",
       "                                       doi_url                        doi  \\\n",
       "0  http://dx.doi.org/10.1007/s12011-009-8512-9  10.1007/s12011-009-8512-9   \n",
       "1          http://dx.doi.org/10.1002/agr.20228          10.1002/agr.20228   \n",
       "2          http://dx.doi.org/10.1002/agr.20237          10.1002/agr.20237   \n",
       "3          http://dx.doi.org/10.1002/agr.20241          10.1002/agr.20241   \n",
       "4          http://dx.doi.org/10.1002/agr.20240          10.1002/agr.20240   \n",
       "\n",
       "                                            files_ss      pmid  \\\n",
       "0  [{\"dsId\":\"PDF\",\"order\":\"1\",\"title\":\"Histomorph...  19756402   \n",
       "1                                                NaN       NaN   \n",
       "2                                                NaN       NaN   \n",
       "3                                                NaN       NaN   \n",
       "4                                                NaN       NaN   \n",
       "\n",
       "                                            pmid_url    text_availability  \\\n",
       "0  http://www.ncbi.nlm.nih.gov/pubmed/?term=19756402          [Full Text]   \n",
       "1                                                NaN  [Citation in PubAg]   \n",
       "2                                                NaN  [Citation in PubAg]   \n",
       "3                                                NaN  [Citation in PubAg]   \n",
       "4                                                NaN  [Citation in PubAg]   \n",
       "\n",
       "  language  issue  \n",
       "0       []    NaN  \n",
       "1       []  no. 4  \n",
       "2       []  no. 4  \n",
       "3       []  no. 4  \n",
       "4       []  no. 4  \n",
       "\n",
       "[5 rows x 30 columns]"
      ]
     },
     "execution_count": 158,
     "metadata": {},
     "output_type": "execute_result"
    }
   ],
   "source": [
    "df4.head(5)"
   ]
  }
 ],
 "metadata": {
  "kernelspec": {
   "display_name": "Python 3 (ipykernel)",
   "language": "python",
   "name": "python3"
  },
  "language_info": {
   "codemirror_mode": {
    "name": "ipython",
    "version": 3
   },
   "file_extension": ".py",
   "mimetype": "text/x-python",
   "name": "python",
   "nbconvert_exporter": "python",
   "pygments_lexer": "ipython3",
   "version": "3.9.6"
  }
 },
 "nbformat": 4,
 "nbformat_minor": 5
}
