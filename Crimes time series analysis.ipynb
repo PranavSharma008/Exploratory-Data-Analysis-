{
 "cells": [
  {
   "cell_type": "markdown",
   "id": "b574527a",
   "metadata": {},
   "source": [
    "# Homework 4"
   ]
  },
  {
   "cell_type": "markdown",
   "id": "c6a4f17a",
   "metadata": {},
   "source": [
    "Submitted by: Pranav Sharma"
   ]
  },
  {
   "cell_type": "markdown",
   "id": "b8e0dcb8",
   "metadata": {},
   "source": [
    "Submission date: 6th October"
   ]
  },
  {
   "cell_type": "markdown",
   "id": "1480b7e4",
   "metadata": {},
   "source": [
    "**Instructions:** In this homework you will process and analyze a large data set that contains crimes reported in the city of Chicago from 2018 to February 2021.\n",
    "\n",
    "To load the data set and get the *crimes* dataframe correctly configured, execute the cells with the code provided in this notebook by the instructor. This could take a few minutes after you start the execution of the code cells.\n",
    "\n",
    "Once the *crimes* dataframe has been setup you could should proceed to obtain 3 meaningful data analysis results from processing the *crimes* dataframe. Four cells have been provided for you to describe the results of each of your data analysis procedures. You can add as many code cells as you want to complete each of your analysis and I also recommend that you add some explanatory cells (use Markdown cells) to provide some additional text with explanations of what you are doing.\n"
   ]
  },
  {
   "cell_type": "code",
   "execution_count": 4,
   "id": "cf08cb30",
   "metadata": {},
   "outputs": [],
   "source": [
    "#EXECUTE THIS CELL to setup the modules you need\n",
    "%matplotlib inline\n",
    "\n",
    "import pandas as pd\n",
    "import numpy as np\n",
    "import requests\n",
    "from io import StringIO"
   ]
  },
  {
   "cell_type": "code",
   "execution_count": 171,
   "id": "ec9763fc",
   "metadata": {},
   "outputs": [
    {
     "name": "stderr",
     "output_type": "stream",
     "text": [
      "/opt/conda/lib/python3.9/site-packages/urllib3/connectionpool.py:1013: InsecureRequestWarning: Unverified HTTPS request is being made to host 'gitlab.gitlab.svc.cent-su.org'. Adding certificate verification is strongly advised. See: https://urllib3.readthedocs.io/en/1.26.x/advanced-usage.html#ssl-warnings\n",
      "  warnings.warn(\n"
     ]
    }
   ],
   "source": [
    "#EXECUTE THIS CELL to load the dataset into your environment - a security warning will appear. You can ignore it.\n",
    "url=\"https://gitlab.gitlab.svc.cent-su.org/ccaicedo/652public/-/raw/master/crimes_2018.csv\"\n",
    "csvdata=requests.get(url,verify=False).text  #this will generate a warning but you can proceed"
   ]
  },
  {
   "cell_type": "code",
   "execution_count": 172,
   "id": "18b1dee9",
   "metadata": {},
   "outputs": [],
   "source": [
    "#EXECUTE THIS CELL to setup the crimes dataframe with the data from dataset correctly formatted \n",
    "crimes=pd.read_csv(StringIO(csvdata),parse_dates=[0], index_col=[0])"
   ]
  },
  {
   "cell_type": "markdown",
   "id": "9b523fe3",
   "metadata": {},
   "source": [
    "# Code for data analysis 1\n",
    "\n",
    "You can place the code for your first data analysis result in this section. Add as many code cells as you need."
   ]
  },
  {
   "cell_type": "code",
   "execution_count": 173,
   "id": "6b8f107d",
   "metadata": {
    "scrolled": true
   },
   "outputs": [],
   "source": [
    "#crimes.loc[:,'District':'Location'].head(5)"
   ]
  },
  {
   "cell_type": "code",
   "execution_count": 174,
   "id": "0bff724d",
   "metadata": {},
   "outputs": [
    {
     "name": "stdout",
     "output_type": "stream",
     "text": [
      "<class 'pandas.core.frame.DataFrame'>\n",
      "DatetimeIndex: 766163 entries, 2018-09-01 00:01:00 to 2021-02-27 09:55:00\n",
      "Data columns (total 21 columns):\n",
      " #   Column                Non-Null Count   Dtype  \n",
      "---  ------                --------------   -----  \n",
      " 0   ID                    766163 non-null  int64  \n",
      " 1   Case Number           766163 non-null  object \n",
      " 2   Block                 766163 non-null  object \n",
      " 3   IUCR                  766163 non-null  object \n",
      " 4   Primary Type          766163 non-null  object \n",
      " 5   Description           766163 non-null  object \n",
      " 6   Location Description  762688 non-null  object \n",
      " 7   Arrest                766163 non-null  bool   \n",
      " 8   Domestic              766163 non-null  bool   \n",
      " 9   Beat                  766163 non-null  int64  \n",
      " 10  District              766163 non-null  float64\n",
      " 11  Ward                  766133 non-null  float64\n",
      " 12  Community Area        766162 non-null  float64\n",
      " 13  FBI Code              766163 non-null  object \n",
      " 14  X Coordinate          758002 non-null  float64\n",
      " 15  Y Coordinate          758002 non-null  float64\n",
      " 16  Year                  766163 non-null  int64  \n",
      " 17  Updated On            766163 non-null  object \n",
      " 18  Latitude              758002 non-null  float64\n",
      " 19  Longitude             758002 non-null  float64\n",
      " 20  Location              758002 non-null  object \n",
      "dtypes: bool(2), float64(7), int64(3), object(9)\n",
      "memory usage: 118.4+ MB\n"
     ]
    }
   ],
   "source": [
    "crimes.info()"
   ]
  },
  {
   "cell_type": "code",
   "execution_count": 175,
   "id": "9131faae",
   "metadata": {},
   "outputs": [],
   "source": [
    "#crimes['Primary Type']"
   ]
  },
  {
   "cell_type": "code",
   "execution_count": 176,
   "id": "b04f4522",
   "metadata": {},
   "outputs": [
    {
     "data": {
      "text/plain": [
       "DatetimeIndex(['2018-01-01 00:00:00', '2018-06-01 00:00:00',\n",
       "               '2018-07-01 00:00:00', '2019-01-01 00:00:00',\n",
       "               '2020-01-01 00:00:00', '2020-05-31 00:00:00',\n",
       "               '2020-05-31 14:00:00', '2020-05-31 15:00:00',\n",
       "               '2020-05-31 16:00:00', '2020-05-31 17:00:00',\n",
       "               '2020-05-31 20:00:00', '2020-05-31 21:00:00',\n",
       "               '2020-05-31 22:00:00', '2020-05-31 23:00:00',\n",
       "               '2021-01-01 00:00:00'],\n",
       "              dtype='datetime64[ns]', name='Date', freq=None)"
      ]
     },
     "execution_count": 176,
     "metadata": {},
     "output_type": "execute_result"
    }
   ],
   "source": [
    "#crimes = crimes[].resample['h'].count()\n",
    "Hourly_crimes = crimes['Primary Type'].resample('h').count()\n",
    "Hourly_crimes.sort_index(inplace=True)\n",
    "## Line 1\n",
    "Hourly_crimes[(Hourly_crimes>100)==True].index"
   ]
  },
  {
   "cell_type": "code",
   "execution_count": 177,
   "id": "4389ad6d",
   "metadata": {},
   "outputs": [
    {
     "data": {
      "text/plain": [
       "<AxesSubplot:xlabel='Date'>"
      ]
     },
     "execution_count": 177,
     "metadata": {},
     "output_type": "execute_result"
    },
    {
     "data": {
      "image/png": "[encoded data removed]",
      "text/plain": [
       "<Figure size 432x288 with 1 Axes>"
      ]
     },
     "metadata": {
      "needs_background": "light"
     },
     "output_type": "display_data"
    }
   ],
   "source": [
    "# Line 2\n",
    "Hourly_crimes.plot()"
   ]
  },
  {
   "cell_type": "code",
   "execution_count": 178,
   "id": "ae7cd23b",
   "metadata": {},
   "outputs": [
    {
     "data": {
      "text/plain": [
       "<AxesSubplot:xlabel='Date'>"
      ]
     },
     "execution_count": 178,
     "metadata": {},
     "output_type": "execute_result"
    },
    {
     "data": {
      "image/png": "[encoded data removed]",
      "text/plain": [
       "<Figure size 432x288 with 1 Axes>"
      ]
     },
     "metadata": {
      "needs_background": "light"
     },
     "output_type": "display_data"
    }
   ],
   "source": [
    "#Line 3\n",
    "Hourly_crimes['2020-05-31'].plot()\n"
   ]
  },
  {
   "cell_type": "code",
   "execution_count": 179,
   "id": "2fcceb7d",
   "metadata": {},
   "outputs": [
    {
     "data": {
      "text/plain": [
       "Date\n",
       "2018-01-01 00:00:00    257\n",
       "2019-01-01 00:00:00    195\n",
       "2020-05-31 16:00:00    151\n",
       "Name: Primary Type, dtype: int64"
      ]
     },
     "execution_count": 179,
     "metadata": {},
     "output_type": "execute_result"
    }
   ],
   "source": [
    "Hourly_crimes[(Hourly_crimes>150)==True]"
   ]
  },
  {
   "cell_type": "markdown",
   "id": "7ce989a5",
   "metadata": {},
   "source": [
    "## Description of data analysis result 1\n",
    "\n",
    "Use the next cell to describe your data analysis result 1"
   ]
  },
  {
   "cell_type": "markdown",
   "id": "1afd4df1",
   "metadata": {},
   "source": [
    "The thieves prefer doing there work duing new years time. The midnight time of the new year is the highest time when thievery happens. We can thus infer that due to the new year, it becomes easier for the robbers to do their work.\n",
    "From Line 2 plot you can see that the crimes rate increaes every year in January\n",
    "Apart from that, Every theive like to rob first of every month. Its the satirical equivalent to us waiting for our salary to be credited at the month's end. Like us, they plan and prefer to earn for the whole month in the beginning. \n",
    "\n",
    "If hypothetically we consider that if hourly crime rate is more than 100 then it is critical then on 31st May 2020, hourly crime rate increased more than 100 many times. The reason appears to be totally random since no other date other than 1st of every month showed increase in robbery. \n",
    "\n",
    "150 is too high a value to consider and doesn't give results signifying high crime rate times. "
   ]
  },
  {
   "cell_type": "markdown",
   "id": "656e7a54",
   "metadata": {},
   "source": [
    "# Code for data analysis 2\n",
    "\n",
    "You can place the code for your second data analysis result in this section. Add as many code cells as you need."
   ]
  },
  {
   "cell_type": "code",
   "execution_count": 180,
   "id": "67adcca8",
   "metadata": {},
   "outputs": [],
   "source": [
    "arrest_req_cases=crimes[crimes['Arrest']==True]"
   ]
  },
  {
   "cell_type": "code",
   "execution_count": 181,
   "id": "fcf7bebb",
   "metadata": {},
   "outputs": [
    {
     "data": {
      "text/plain": [
       "Date\n",
       "2018-01-01 00:00:00    32\n",
       "2018-01-01 01:00:00    11\n",
       "2018-01-01 02:00:00    11\n",
       "2018-01-01 03:00:00     7\n",
       "2018-01-01 04:00:00     3\n",
       "                       ..\n",
       "2021-02-27 19:00:00     6\n",
       "2021-02-27 20:00:00     7\n",
       "2021-02-27 21:00:00     3\n",
       "2021-02-27 22:00:00     6\n",
       "2021-02-27 23:00:00     2\n",
       "Freq: H, Name: ID, Length: 27696, dtype: int64"
      ]
     },
     "execution_count": 181,
     "metadata": {},
     "output_type": "execute_result"
    }
   ],
   "source": [
    "arrest_req_cases_hourly = arrest_req_cases['ID'].resample('h').count()\n",
    "arrest_req_cases['ID'].resample('h').count()"
   ]
  },
  {
   "cell_type": "code",
   "execution_count": 182,
   "id": "c8b7870d",
   "metadata": {},
   "outputs": [
    {
     "data": {
      "text/plain": [
       "5.297335355285962"
      ]
     },
     "execution_count": 182,
     "metadata": {},
     "output_type": "execute_result"
    }
   ],
   "source": [
    "arrest_req_cases_hourly.sort_index(inplace=True)\n",
    "arrest_req_cases_hourly.mean()\n"
   ]
  },
  {
   "cell_type": "code",
   "execution_count": 183,
   "id": "8e3f6701",
   "metadata": {},
   "outputs": [
    {
     "data": {
      "text/plain": [
       "27.663308781051416"
      ]
     },
     "execution_count": 183,
     "metadata": {},
     "output_type": "execute_result"
    }
   ],
   "source": [
    "Hourly_crimes.mean()"
   ]
  },
  {
   "cell_type": "code",
   "execution_count": 184,
   "id": "1698e412",
   "metadata": {},
   "outputs": [
    {
     "data": {
      "text/plain": [
       "0.1914931940070194"
      ]
     },
     "execution_count": 184,
     "metadata": {},
     "output_type": "execute_result"
    }
   ],
   "source": [
    "ratio= arrest_req_cases_hourly.mean()/ Hourly_crimes.mean()\n",
    "ratio"
   ]
  },
  {
   "cell_type": "markdown",
   "id": "43babe0f",
   "metadata": {},
   "source": [
    "We can infer from this ratio that for every 5 crimes commited per hour, the authorities are performing  1 arrest."
   ]
  },
  {
   "cell_type": "code",
   "execution_count": 185,
   "id": "f22b2c13",
   "metadata": {},
   "outputs": [
    {
     "data": {
      "text/plain": [
       "257"
      ]
     },
     "execution_count": 185,
     "metadata": {},
     "output_type": "execute_result"
    }
   ],
   "source": [
    "Hourly_crimes.max()"
   ]
  },
  {
   "cell_type": "code",
   "execution_count": 186,
   "id": "5fff080d",
   "metadata": {},
   "outputs": [
    {
     "data": {
      "text/plain": [
       "34"
      ]
     },
     "execution_count": 186,
     "metadata": {},
     "output_type": "execute_result"
    }
   ],
   "source": [
    "arrest_req_cases_hourly.max()"
   ]
  },
  {
   "cell_type": "code",
   "execution_count": 187,
   "id": "11dc6f5c",
   "metadata": {},
   "outputs": [
    {
     "data": {
      "text/plain": [
       "2293"
      ]
     },
     "execution_count": 187,
     "metadata": {},
     "output_type": "execute_result"
    }
   ],
   "source": [
    "## Line 4\n",
    "sum(arrest_req_cases_hourly['2020-06'])"
   ]
  },
  {
   "cell_type": "code",
   "execution_count": 188,
   "id": "48c7f05c",
   "metadata": {},
   "outputs": [
    {
     "data": {
      "text/plain": [
       "1897"
      ]
     },
     "execution_count": 188,
     "metadata": {},
     "output_type": "execute_result"
    }
   ],
   "source": [
    "# line 5\n",
    "sum(Hourly_crimes['2020-05-31'])"
   ]
  },
  {
   "cell_type": "code",
   "execution_count": 189,
   "id": "49cd1134",
   "metadata": {},
   "outputs": [
    {
     "data": {
      "text/plain": [
       "<AxesSubplot:xlabel='Date'>"
      ]
     },
     "execution_count": 189,
     "metadata": {},
     "output_type": "execute_result"
    },
    {
     "data": {
      "image/png": "[encoded data removed]",
      "text/plain": [
       "<Figure size 432x288 with 1 Axes>"
      ]
     },
     "metadata": {
      "needs_background": "light"
     },
     "output_type": "display_data"
    }
   ],
   "source": [
    "arrest_req_cases_hourly.plot()"
   ]
  },
  {
   "cell_type": "code",
   "execution_count": 190,
   "id": "ba7b2726",
   "metadata": {},
   "outputs": [
    {
     "data": {
      "text/plain": [
       "<AxesSubplot:xlabel='Date'>"
      ]
     },
     "execution_count": 190,
     "metadata": {},
     "output_type": "execute_result"
    },
    {
     "data": {
      "image/png": "[encoded data removed]",
      "text/plain": [
       "<Figure size 432x288 with 1 Axes>"
      ]
     },
     "metadata": {
      "needs_background": "light"
     },
     "output_type": "display_data"
    }
   ],
   "source": [
    "arrested_thefts=arrest_req_cases[arrest_req_cases['Primary Type']=='THEFT']\n",
    "arrested_thefts_daily = arrested_thefts['ID'].resample('D').count()\n",
    "arrested_thefts_daily.plot()"
   ]
  },
  {
   "cell_type": "code",
   "execution_count": 191,
   "id": "cc0f1ffb",
   "metadata": {},
   "outputs": [
    {
     "data": {
      "text/plain": [
       "<AxesSubplot:xlabel='Date'>"
      ]
     },
     "execution_count": 191,
     "metadata": {},
     "output_type": "execute_result"
    },
    {
     "data": {
      "image/png": "[encoded data removed]",
      "text/plain": [
       "<Figure size 432x288 with 1 Axes>"
      ]
     },
     "metadata": {
      "needs_background": "light"
     },
     "output_type": "display_data"
    }
   ],
   "source": [
    "crimes_thefts = crimes[crimes['Primary Type']=='THEFT']\n",
    "crimes_thefts_daily = crimes_thefts['ID'].resample('D').count()\n",
    "crimes_thefts_daily.plot()"
   ]
  },
  {
   "cell_type": "code",
   "execution_count": 192,
   "id": "17c23bdc",
   "metadata": {},
   "outputs": [
    {
     "name": "stdout",
     "output_type": "stream",
     "text": [
      "6339 6100 2769 239\n"
     ]
    }
   ],
   "source": [
    "print(len(arrested_thefts[arrested_thefts['Year']== 2018]) , len(arrested_thefts[arrested_thefts['Year']== 2019]),\n",
    "      len(arrested_thefts[arrested_thefts['Year']== 2020]) ,len(arrested_thefts[arrested_thefts['Year']== 2021]))"
   ]
  },
  {
   "cell_type": "code",
   "execution_count": 193,
   "id": "6c1d275f",
   "metadata": {},
   "outputs": [
    {
     "data": {
      "text/plain": [
       "0.08916892278030167"
      ]
     },
     "execution_count": 193,
     "metadata": {},
     "output_type": "execute_result"
    }
   ],
   "source": [
    "ratio_thefts = arrested_thefts_daily.mean()/crimes_thefts_daily.mean()\n",
    "ratio_thefts"
   ]
  },
  {
   "cell_type": "markdown",
   "id": "39b74590",
   "metadata": {},
   "source": [
    "## Description of data analysis result 2\n",
    "\n",
    "Use the next cell to describe your data analysis result 2"
   ]
  },
  {
   "cell_type": "markdown",
   "id": "4e0266c7",
   "metadata": {},
   "source": [
    "There are a lot of crimes that take place and the authorities are working relentlessly. It is quite significant that how many arrests are being done on an hourly basis. \n",
    "\n",
    "Extending from previous question, 31st May 2020 was the day when the crimes hourly reached more than 100 several times. On that day, 1897 were the total crimes that happened. Following that month, 2293 arrests were made. \n",
    "From 2018 we see a decrease in the number of arrests being made for Theft related issues. It is also because the number of crime incidents also decrease from the year 2020. Looking at the graphs plotted we can infer that the arrests made in theft related incident decreases by the same margin as the number of theft cases. \n",
    "\n",
    "Thus the ratio remains same i.e (1: 10) approximately where 1 being the number of arrest made per 10 cases of theft.\n",
    "\n"
   ]
  },
  {
   "cell_type": "markdown",
   "id": "767cbda2",
   "metadata": {},
   "source": [
    "# Code for data analysis 3\n",
    "\n",
    "You can place the code for your third data analysis result in this section. Add as many code cells as you need."
   ]
  },
  {
   "cell_type": "code",
   "execution_count": 194,
   "id": "d4a3d47b",
   "metadata": {},
   "outputs": [],
   "source": [
    "crimes_domestic = crimes[crimes['Domestic']==True]"
   ]
  },
  {
   "cell_type": "code",
   "execution_count": 195,
   "id": "d8b13f2a",
   "metadata": {},
   "outputs": [],
   "source": [
    "crimes_domestic_children= crimes_domestic[crimes_domestic['IUCR']=='1710']"
   ]
  },
  {
   "cell_type": "code",
   "execution_count": 196,
   "id": "b3813715",
   "metadata": {},
   "outputs": [
    {
     "data": {
      "text/plain": [
       "1044"
      ]
     },
     "execution_count": 196,
     "metadata": {},
     "output_type": "execute_result"
    }
   ],
   "source": [
    "# number of case involving children\n",
    "crimes_children = crimes[crimes['IUCR']=='1710']\n",
    "len (crimes[crimes['IUCR']=='1710'])"
   ]
  },
  {
   "cell_type": "code",
   "execution_count": 197,
   "id": "b5789824",
   "metadata": {},
   "outputs": [
    {
     "data": {
      "text/plain": [
       "472"
      ]
     },
     "execution_count": 197,
     "metadata": {},
     "output_type": "execute_result"
    }
   ],
   "source": [
    "# number of case involving children which are domestic\n",
    "len(crimes_domestic_children)"
   ]
  },
  {
   "cell_type": "code",
   "execution_count": 198,
   "id": "47dfa0a5",
   "metadata": {},
   "outputs": [
    {
     "data": {
      "text/plain": [
       "<AxesSubplot:xlabel='Date'>"
      ]
     },
     "execution_count": 198,
     "metadata": {},
     "output_type": "execute_result"
    },
    {
     "data": {
      "image/png": "[encoded data removed]",
      "text/plain": [
       "<Figure size 432x288 with 1 Axes>"
      ]
     },
     "metadata": {
      "needs_background": "light"
     },
     "output_type": "display_data"
    }
   ],
   "source": [
    "crimes_children_yearly = crimes_children['ID'].resample('y').count()\n",
    "crimes_children_yearly.plot()"
   ]
  },
  {
   "cell_type": "code",
   "execution_count": 199,
   "id": "e437ee74",
   "metadata": {},
   "outputs": [
    {
     "data": {
      "text/plain": [
       "<AxesSubplot:xlabel='Date'>"
      ]
     },
     "execution_count": 199,
     "metadata": {},
     "output_type": "execute_result"
    },
    {
     "data": {
      "image/png": "[encoded data removed]",
      "text/plain": [
       "<Figure size 432x288 with 1 Axes>"
      ]
     },
     "metadata": {
      "needs_background": "light"
     },
     "output_type": "display_data"
    }
   ],
   "source": [
    "crimes_domestic_children_yearly = crimes_domestic_children['ID'].resample('y').count()\n",
    "crimes_domestic_children_yearly.plot()"
   ]
  },
  {
   "cell_type": "markdown",
   "id": "d0327911",
   "metadata": {},
   "source": [
    "## Description of data analysis result 3\n",
    "\n",
    "Use the next cell to describe your data analysis result 3"
   ]
  },
  {
   "cell_type": "markdown",
   "id": "8379d0c4",
   "metadata": {},
   "source": [
    "Out of 1044 crimes committed on children 472 occured due to domestic which is quite worrysome but the good news is that crimes involving children have sharply declined due to efforts from Police department. The year 2021 is not over but even then, the low numbers looks promising."
   ]
  },
  {
   "cell_type": "markdown",
   "id": "0e97ff69",
   "metadata": {},
   "source": [
    "## Code of Data Analysis 4"
   ]
  },
  {
   "cell_type": "markdown",
   "id": "61fe46b4",
   "metadata": {},
   "source": [
    "Choose a primary type of crime and within that find when we know the location, When we know the location, is the arrest guarenteed?"
   ]
  },
  {
   "cell_type": "code",
   "execution_count": 200,
   "id": "8c79fcb8",
   "metadata": {},
   "outputs": [
    {
     "data": {
      "text/plain": [
       "Date\n",
       "2018-09-01 00:01:00                                THEFT\n",
       "2018-01-01 08:00:00                   DECEPTIVE PRACTICE\n",
       "2018-12-20 16:00:00                        OTHER OFFENSE\n",
       "2020-03-18 02:03:00                  MOTOR VEHICLE THEFT\n",
       "2019-10-13 19:00:00                      CRIMINAL DAMAGE\n",
       "2019-10-13 14:10:00                              ASSAULT\n",
       "2019-10-13 00:05:00                              BATTERY\n",
       "2020-03-18 17:35:00                            NARCOTICS\n",
       "2019-10-13 08:15:00                    WEAPONS VIOLATION\n",
       "2018-06-01 15:00:00           OFFENSE INVOLVING CHILDREN\n",
       "2020-03-18 18:00:00                              ROBBERY\n",
       "2019-10-13 05:00:00                    CRIMINAL TRESPASS\n",
       "2018-11-27 20:43:00                 LIQUOR LAW VIOLATION\n",
       "2019-10-13 20:30:00                             BURGLARY\n",
       "2019-10-13 22:34:00     INTERFERENCE WITH PUBLIC OFFICER\n",
       "2018-10-01 00:00:00                  CRIM SEXUAL ASSAULT\n",
       "2019-10-13 21:47:00                                ARSON\n",
       "2019-10-13 03:20:00              CRIMINAL SEXUAL ASSAULT\n",
       "2019-10-13 22:10:00                         PROSTITUTION\n",
       "2019-10-13 04:03:00               PUBLIC PEACE VIOLATION\n",
       "2018-11-15 17:00:00                          SEX OFFENSE\n",
       "2020-03-16 19:30:00                             STALKING\n",
       "2020-12-11 21:45:00                           KIDNAPPING\n",
       "2020-08-09 21:00:00                         INTIMIDATION\n",
       "2019-10-13 21:20:00    CONCEALED CARRY LICENSE VIOLATION\n",
       "2020-08-09 03:34:00                             HOMICIDE\n",
       "2019-10-14 20:42:00                             GAMBLING\n",
       "2018-07-01 16:00:00                            OBSCENITY\n",
       "2018-01-13 08:17:00                         NON-CRIMINAL\n",
       "2018-01-29 15:00:00                    HUMAN TRAFFICKING\n",
       "2018-04-04 12:15:00                     PUBLIC INDECENCY\n",
       "2018-04-16 11:15:00     NON-CRIMINAL (SUBJECT SPECIFIED)\n",
       "2018-11-09 17:00:00             OTHER NARCOTIC VIOLATION\n",
       "2020-11-17 23:52:00                            RITUALISM\n",
       "Name: Primary Type, dtype: object"
      ]
     },
     "execution_count": 200,
     "metadata": {},
     "output_type": "execute_result"
    }
   ],
   "source": [
    "primary_types_crimes = crimes['Primary Type'].drop_duplicates()\n",
    "primary_types_crimes"
   ]
  },
  {
   "cell_type": "code",
   "execution_count": 201,
   "id": "fc56d41a",
   "metadata": {},
   "outputs": [
    {
     "data": {
      "text/plain": [
       "2"
      ]
     },
     "execution_count": 201,
     "metadata": {},
     "output_type": "execute_result"
    }
   ],
   "source": [
    "crimes_assault=crimes[crimes['Primary Type']=='ASSAULT']\n",
    "#2033 BEAT\n",
    "#crimes_assault= crimes_assault.loc[:,'Description': 'Location Description'].reset_index(inplace=True)\n",
    "location_vector= crimes_assault['Location'].reset_index()['Location']\n",
    "location_vector[location_vector=='(41.975837637, -87.659853835)'].count()"
   ]
  },
  {
   "cell_type": "code",
   "execution_count": 210,
   "id": "c9cf9d63",
   "metadata": {},
   "outputs": [
    {
     "data": {
      "text/html": [
       "<div>\n",
       "<style scoped>\n",
       "    .dataframe tbody tr th:only-of-type {\n",
       "        vertical-align: middle;\n",
       "    }\n",
       "\n",
       "    .dataframe tbody tr th {\n",
       "        vertical-align: top;\n",
       "    }\n",
       "\n",
       "    .dataframe thead th {\n",
       "        text-align: right;\n",
       "    }\n",
       "</style>\n",
       "<table border=\"1\" class=\"dataframe\">\n",
       "  <thead>\n",
       "    <tr style=\"text-align: right;\">\n",
       "      <th></th>\n",
       "      <th>Arrest</th>\n",
       "      <th>Domestic</th>\n",
       "      <th>Beat</th>\n",
       "      <th>District</th>\n",
       "      <th>Ward</th>\n",
       "      <th>Community Area</th>\n",
       "      <th>FBI Code</th>\n",
       "      <th>X Coordinate</th>\n",
       "      <th>Y Coordinate</th>\n",
       "      <th>Year</th>\n",
       "      <th>Updated On</th>\n",
       "      <th>Latitude</th>\n",
       "      <th>Longitude</th>\n",
       "      <th>Location</th>\n",
       "    </tr>\n",
       "  </thead>\n",
       "  <tbody>\n",
       "    <tr>\n",
       "      <th>0</th>\n",
       "      <td>False</td>\n",
       "      <td>False</td>\n",
       "      <td>2033</td>\n",
       "      <td>20.0</td>\n",
       "      <td>47.0</td>\n",
       "      <td>3.0</td>\n",
       "      <td>08A</td>\n",
       "      <td>1167380.0</td>\n",
       "      <td>1934505.0</td>\n",
       "      <td>2019</td>\n",
       "      <td>10/20/2019 04:03:03 PM</td>\n",
       "      <td>41.975838</td>\n",
       "      <td>-87.659854</td>\n",
       "      <td>(41.975837637, -87.659853835)</td>\n",
       "    </tr>\n",
       "    <tr>\n",
       "      <th>1</th>\n",
       "      <td>False</td>\n",
       "      <td>False</td>\n",
       "      <td>2525</td>\n",
       "      <td>25.0</td>\n",
       "      <td>35.0</td>\n",
       "      <td>20.0</td>\n",
       "      <td>08A</td>\n",
       "      <td>1147996.0</td>\n",
       "      <td>1915240.0</td>\n",
       "      <td>2020</td>\n",
       "      <td>03/25/2020 03:47:29 PM</td>\n",
       "      <td>41.923369</td>\n",
       "      <td>-87.731634</td>\n",
       "      <td>(41.923368973, -87.731633833)</td>\n",
       "    </tr>\n",
       "    <tr>\n",
       "      <th>2</th>\n",
       "      <td>False</td>\n",
       "      <td>False</td>\n",
       "      <td>1811</td>\n",
       "      <td>18.0</td>\n",
       "      <td>43.0</td>\n",
       "      <td>7.0</td>\n",
       "      <td>08A</td>\n",
       "      <td>1169256.0</td>\n",
       "      <td>1915139.0</td>\n",
       "      <td>2019</td>\n",
       "      <td>10/20/2019 04:03:03 PM</td>\n",
       "      <td>41.922656</td>\n",
       "      <td>-87.653520</td>\n",
       "      <td>(41.922655899, -87.653519985)</td>\n",
       "    </tr>\n",
       "    <tr>\n",
       "      <th>3</th>\n",
       "      <td>True</td>\n",
       "      <td>False</td>\n",
       "      <td>1834</td>\n",
       "      <td>18.0</td>\n",
       "      <td>42.0</td>\n",
       "      <td>8.0</td>\n",
       "      <td>08A</td>\n",
       "      <td>1176668.0</td>\n",
       "      <td>1903135.0</td>\n",
       "      <td>2019</td>\n",
       "      <td>10/20/2019 04:03:03 PM</td>\n",
       "      <td>41.889552</td>\n",
       "      <td>-87.626650</td>\n",
       "      <td>(41.889551923, -87.626649565)</td>\n",
       "    </tr>\n",
       "    <tr>\n",
       "      <th>4</th>\n",
       "      <td>False</td>\n",
       "      <td>False</td>\n",
       "      <td>912</td>\n",
       "      <td>9.0</td>\n",
       "      <td>11.0</td>\n",
       "      <td>59.0</td>\n",
       "      <td>08A</td>\n",
       "      <td>NaN</td>\n",
       "      <td>NaN</td>\n",
       "      <td>2018</td>\n",
       "      <td>02/13/2018 03:58:53 PM</td>\n",
       "      <td>NaN</td>\n",
       "      <td>NaN</td>\n",
       "      <td>NaN</td>\n",
       "    </tr>\n",
       "  </tbody>\n",
       "</table>\n",
       "</div>"
      ],
      "text/plain": [
       "   Arrest  Domestic  Beat  District  Ward  Community Area FBI Code  \\\n",
       "0   False     False  2033      20.0  47.0             3.0      08A   \n",
       "1   False     False  2525      25.0  35.0            20.0      08A   \n",
       "2   False     False  1811      18.0  43.0             7.0      08A   \n",
       "3    True     False  1834      18.0  42.0             8.0      08A   \n",
       "4   False     False   912       9.0  11.0            59.0      08A   \n",
       "\n",
       "   X Coordinate  Y Coordinate  Year              Updated On   Latitude  \\\n",
       "0     1167380.0     1934505.0  2019  10/20/2019 04:03:03 PM  41.975838   \n",
       "1     1147996.0     1915240.0  2020  03/25/2020 03:47:29 PM  41.923369   \n",
       "2     1169256.0     1915139.0  2019  10/20/2019 04:03:03 PM  41.922656   \n",
       "3     1176668.0     1903135.0  2019  10/20/2019 04:03:03 PM  41.889552   \n",
       "4           NaN           NaN  2018  02/13/2018 03:58:53 PM        NaN   \n",
       "\n",
       "   Longitude                       Location  \n",
       "0 -87.659854  (41.975837637, -87.659853835)  \n",
       "1 -87.731634  (41.923368973, -87.731633833)  \n",
       "2 -87.653520  (41.922655899, -87.653519985)  \n",
       "3 -87.626650  (41.889551923, -87.626649565)  \n",
       "4        NaN                            NaN  "
      ]
     },
     "execution_count": 210,
     "metadata": {},
     "output_type": "execute_result"
    }
   ],
   "source": [
    "crime_assault2 =crimes_assault.reset_index().loc[:,'Arrest':'Location']\n",
    "crime_assault2.head(5)"
   ]
  },
  {
   "cell_type": "code",
   "execution_count": 208,
   "id": "8f25b9b6",
   "metadata": {},
   "outputs": [
    {
     "name": "stdout",
     "output_type": "stream",
     "text": [
      "<class 'pandas.core.frame.DataFrame'>\n",
      "Int64Index: 9660 entries, 3 to 61766\n",
      "Data columns (total 14 columns):\n",
      " #   Column          Non-Null Count  Dtype  \n",
      "---  ------          --------------  -----  \n",
      " 0   Arrest          9660 non-null   bool   \n",
      " 1   Domestic        9660 non-null   bool   \n",
      " 2   Beat            9660 non-null   int64  \n",
      " 3   District        9660 non-null   float64\n",
      " 4   Ward            9660 non-null   float64\n",
      " 5   Community Area  9660 non-null   float64\n",
      " 6   FBI Code        9660 non-null   object \n",
      " 7   X Coordinate    9655 non-null   float64\n",
      " 8   Y Coordinate    9655 non-null   float64\n",
      " 9   Year            9660 non-null   int64  \n",
      " 10  Updated On      9660 non-null   object \n",
      " 11  Latitude        9655 non-null   float64\n",
      " 12  Longitude       9655 non-null   float64\n",
      " 13  Location        9655 non-null   object \n",
      "dtypes: bool(2), float64(7), int64(2), object(3)\n",
      "memory usage: 1000.0+ KB\n"
     ]
    }
   ],
   "source": [
    "# for a given location , was the arrest made or not?\n",
    "Crime_assault_location = crime_assault2[crime_assault2['Location']=='(41.931463882, -87.653819694)']\n",
    "crime_arrest_true=crime_assault2[crime_assault2['Arrest']==True]\n",
    "crime_arrest_true.info()\n"
   ]
  },
  {
   "cell_type": "code",
   "execution_count": 205,
   "id": "4f2e0da2",
   "metadata": {},
   "outputs": [],
   "source": [
    "crime_arrest_true['Location'].tail(40)\n",
    "Crime_assault_location_nan = crime_arrest_true[crime_arrest_true['Location']==np.nan ]\n"
   ]
  },
  {
   "cell_type": "code",
   "execution_count": 204,
   "id": "7a200a82",
   "metadata": {},
   "outputs": [
    {
     "data": {
      "text/plain": [
       "0"
      ]
     },
     "execution_count": 204,
     "metadata": {},
     "output_type": "execute_result"
    }
   ],
   "source": [
    "len(Crime_assault_location_nan)"
   ]
  },
  {
   "cell_type": "code",
   "execution_count": 2,
   "id": "e95767ca",
   "metadata": {},
   "outputs": [
    {
     "name": "stdout",
     "output_type": "stream",
     "text": [
      "sdfsd100\n"
     ]
    }
   ],
   "source": [
    "print( 'sdfsd'+ str(100))"
   ]
  },
  {
   "cell_type": "code",
   "execution_count": 5,
   "id": "f0da1063",
   "metadata": {},
   "outputs": [
    {
     "ename": "AttributeError",
     "evalue": "module 'numpy' has no attribute 'arrange'",
     "output_type": "error",
     "traceback": [
      "\u001b[0;31m---------------------------------------------------------------------------\u001b[0m",
      "\u001b[0;31mAttributeError\u001b[0m                            Traceback (most recent call last)",
      "\u001b[0;32m/tmp/ipykernel_182/3268564393.py\u001b[0m in \u001b[0;36m<module>\u001b[0;34m\u001b[0m\n\u001b[0;32m----> 1\u001b[0;31m \u001b[0mV\u001b[0m \u001b[0;34m=\u001b[0m \u001b[0mnp\u001b[0m\u001b[0;34m.\u001b[0m\u001b[0marrange\u001b[0m\u001b[0;34m(\u001b[0m\u001b[0;36m19\u001b[0m\u001b[0;34m)\u001b[0m\u001b[0;34m.\u001b[0m\u001b[0mreshape\u001b[0m\u001b[0;34m(\u001b[0m\u001b[0;34m(\u001b[0m\u001b[0;36m4\u001b[0m\u001b[0;34m,\u001b[0m\u001b[0;36m5\u001b[0m\u001b[0;34m)\u001b[0m\u001b[0;34m)\u001b[0m\u001b[0;34m\u001b[0m\u001b[0;34m\u001b[0m\u001b[0m\n\u001b[0m",
      "\u001b[0;32m/opt/conda/lib/python3.9/site-packages/numpy/__init__.py\u001b[0m in \u001b[0;36m__getattr__\u001b[0;34m(attr)\u001b[0m\n\u001b[1;32m    301\u001b[0m                 \u001b[0;32mreturn\u001b[0m \u001b[0mTester\u001b[0m\u001b[0;34m\u001b[0m\u001b[0;34m\u001b[0m\u001b[0m\n\u001b[1;32m    302\u001b[0m \u001b[0;34m\u001b[0m\u001b[0m\n\u001b[0;32m--> 303\u001b[0;31m             raise AttributeError(\"module {!r} has no attribute \"\n\u001b[0m\u001b[1;32m    304\u001b[0m                                  \"{!r}\".format(__name__, attr))\n\u001b[1;32m    305\u001b[0m \u001b[0;34m\u001b[0m\u001b[0m\n",
      "\u001b[0;31mAttributeError\u001b[0m: module 'numpy' has no attribute 'arrange'"
     ]
    }
   ],
   "source": [
    "V = np.arrange(19).reshape((4,5))"
   ]
  },
  {
   "cell_type": "markdown",
   "id": "83347c75",
   "metadata": {},
   "source": [
    "## Description of Data Analysis of result 4"
   ]
  },
  {
   "cell_type": "markdown",
   "id": "eae214e3",
   "metadata": {},
   "source": [
    "For Assault primary crime type, Whenever the arrest was made, location value is present but location value can be present irrespective of the arrest status. One thing is definitive, when the location is absent then no arrest has been made. "
   ]
  }
 ],
 "metadata": {
  "kernelspec": {
   "display_name": "Python 3 (ipykernel)",
   "language": "python",
   "name": "python3"
  },
  "language_info": {
   "codemirror_mode": {
    "name": "ipython",
    "version": 3
   },
   "file_extension": ".py",
   "mimetype": "text/x-python",
   "name": "python",
   "nbconvert_exporter": "python",
   "pygments_lexer": "ipython3",
   "version": "3.9.6"
  }
 },
 "nbformat": 4,
 "nbformat_minor": 5
}
