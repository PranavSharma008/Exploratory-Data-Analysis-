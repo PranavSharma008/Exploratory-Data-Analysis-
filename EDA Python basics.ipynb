{
 "cells": [
  {
   "cell_type": "markdown",
   "id": "27e965dc",
   "metadata": {
    "deletable": false,
    "editable": false,
    "nbgrader": {
     "cell_type": "markdown",
     "checksum": "988ce3e96ec803d5a2011eec45a8de82",
     "grade": false,
     "grade_id": "headercell",
     "locked": true,
     "schema_version": 3,
     "solution": false,
     "task": false
    }
   },
   "source": [
    "## Homework 2 ##"
   ]
  },
  {
   "cell_type": "markdown",
   "id": "e4cb0d89",
   "metadata": {},
   "source": [
    "Student name: Pranav Sharma"
   ]
  },
  {
   "cell_type": "markdown",
   "id": "2c07bd58",
   "metadata": {},
   "source": [
    "Assignment submission date: 22nd September, 2021"
   ]
  },
  {
   "cell_type": "markdown",
   "id": "a3c3eb2e",
   "metadata": {
    "deletable": false,
    "editable": false,
    "nbgrader": {
     "cell_type": "markdown",
     "checksum": "0e2169d617fac978d3a54e1ef31a9744",
     "grade": false,
     "grade_id": "topinst",
     "locked": true,
     "schema_version": 3,
     "solution": false,
     "task": false
    }
   },
   "source": [
    "Answer the following problems. Add additional cells as needed."
   ]
  },
  {
   "cell_type": "markdown",
   "id": "8c3bf9a3",
   "metadata": {
    "deletable": false,
    "editable": false,
    "nbgrader": {
     "cell_type": "markdown",
     "checksum": "65558910c03881ee299e22a121bdd11d",
     "grade": false,
     "grade_id": "p1header",
     "locked": true,
     "schema_version": 3,
     "solution": false,
     "task": false
    }
   },
   "source": [
    "### Problem 1 ###"
   ]
  },
  {
   "cell_type": "markdown",
   "id": "4b987fd1",
   "metadata": {
    "deletable": false,
    "editable": false,
    "nbgrader": {
     "cell_type": "markdown",
     "checksum": "ec7552242ce9065a801ac5b84c8765c9",
     "grade": false,
     "grade_id": "p1description",
     "locked": true,
     "schema_version": 3,
     "solution": false,
     "task": false
    }
   },
   "source": [
    "Create a function that takes as input a temperature value in degrees Fahrenheit and converts it to degrees Kelvin. You should research the formula for doing such a conversion. The name you **must** give to the function is *kelvin*. The function must return the temperature value in degrees Kelvin. (40 points)"
   ]
  },
  {
   "cell_type": "code",
   "execution_count": 3,
   "id": "87162169",
   "metadata": {
    "deletable": false,
    "nbgrader": {
     "cell_type": "code",
     "checksum": "7ae7ca09fb1a5710657079a6267f93ef",
     "grade": true,
     "grade_id": "FheitToK",
     "locked": false,
     "points": 40,
     "schema_version": 3,
     "solution": true,
     "task": false
    }
   },
   "outputs": [],
   "source": [
    "# YOUR CODE HERE\n",
    "def kelvin(Fahrenheit_temp):\n",
    "    #Celcius_temp = (Fahrenheit_temp -32)*5/9\n",
    "    #kelvin_temp = 273.15 + Celcius_temp\n",
    "    kelvin_temp = ((Fahrenheit_temp-32)*5/9 ) +273.15\n",
    "    return kelvin_temp"
   ]
  },
  {
   "cell_type": "markdown",
   "id": "26b278f0",
   "metadata": {
    "deletable": false,
    "editable": false,
    "nbgrader": {
     "cell_type": "markdown",
     "checksum": "2fd691671d96283f7678717e654fbae1",
     "grade": false,
     "grade_id": "p2header",
     "locked": true,
     "schema_version": 3,
     "solution": false,
     "task": false
    }
   },
   "source": [
    "### Problem 2 ###"
   ]
  },
  {
   "cell_type": "markdown",
   "id": "50efc0f9",
   "metadata": {
    "deletable": false,
    "editable": false,
    "nbgrader": {
     "cell_type": "markdown",
     "checksum": "cb25dd2361179933840ea19935f7d060",
     "grade": false,
     "grade_id": "p2desc",
     "locked": true,
     "schema_version": 3,
     "solution": false,
     "task": false
    }
   },
   "source": [
    "Using the grading table provided in the course syllabus, create a function that takes a 0 to 100 score value and returns the corresponding letter grade. The name you must give to the function is *lettergrade*.   (40 points)"
   ]
  },
  {
   "cell_type": "code",
   "execution_count": 1,
   "id": "462fbdbb",
   "metadata": {
    "deletable": false,
    "nbgrader": {
     "cell_type": "code",
     "checksum": "8f82719dc81fbae662887c9eb0fc157e",
     "grade": true,
     "grade_id": "p2solbyst",
     "locked": false,
     "points": 40,
     "schema_version": 3,
     "solution": true,
     "task": false
    }
   },
   "outputs": [],
   "source": [
    "# YOUR CODE HERE\n",
    "def lettergrade(score):\n",
    "    # since we do not have the table stored anywhere, we are just going to add all the conditions in the if -else statements\n",
    "    #elif means else if .\n",
    "\n",
    "    if(93<=score<=100):\n",
    "        grade ='A'\n",
    "    elif(90<=score<=92.99):\n",
    "        grade = 'A-'\n",
    "    elif(87<=score<=89.99):\n",
    "        grade = 'B+'\n",
    "    elif(83<=score<=86.99):\n",
    "        grade = 'B'\n",
    "    elif(80<=score<=82.99):\n",
    "        grade = 'B-'\n",
    "    elif(77<=score<=79.99):\n",
    "        grade = 'C+'\n",
    "    elif(73<=score<=76.99):\n",
    "        grade = 'C'\n",
    "    elif(70<=score<=72.99):\n",
    "        grade = 'C-'\n",
    "    elif(0<=score<=69.99):\n",
    "        grade = 'F'\n",
    "    # thus minimum marks to get passing marks would be above 70.\n",
    "    return grade\n"
   ]
  },
  {
   "cell_type": "markdown",
   "id": "cdb231bb",
   "metadata": {
    "deletable": false,
    "editable": false,
    "nbgrader": {
     "cell_type": "markdown",
     "checksum": "cf23dbbf554371baab40c19ee2507c77",
     "grade": false,
     "grade_id": "p3header",
     "locked": true,
     "schema_version": 3,
     "solution": false,
     "task": false
    }
   },
   "source": [
    "### Problem 3 ###"
   ]
  },
  {
   "cell_type": "markdown",
   "id": "939ca9e8",
   "metadata": {
    "deletable": false,
    "editable": false,
    "nbgrader": {
     "cell_type": "markdown",
     "checksum": "c95579cc7a763b3d19f75a1baa86d3f7",
     "grade": false,
     "grade_id": "p3desc",
     "locked": true,
     "schema_version": 3,
     "solution": false,
     "task": false
    }
   },
   "source": [
    "Create a piece of code that uses a flow control statement (if, for, while) that was not used in the previous problems of this assingment. Explain your code by adding comments to it and/or cells with markdown text as necessary. (20 points)"
   ]
  },
  {
   "cell_type": "code",
   "execution_count": 45,
   "id": "8f5bf9ff",
   "metadata": {
    "deletable": false,
    "nbgrader": {
     "cell_type": "code",
     "checksum": "7ca3489546d15ee32c0d7eb2634a5060",
     "grade": true,
     "grade_id": "p3solbyst",
     "locked": false,
     "points": 20,
     "schema_version": 3,
     "solution": true,
     "task": false
    }
   },
   "outputs": [],
   "source": [
    "import math  "
   ]
  },
  {
   "cell_type": "code",
   "execution_count": 46,
   "id": "58e2c201",
   "metadata": {},
   "outputs": [],
   "source": [
    "x = 32"
   ]
  },
  {
   "cell_type": "markdown",
   "id": "7388150d",
   "metadata": {},
   "source": [
    "We have placed x = 32 which is 2^5. We have also imported math library from python on which we are going to use log function. We written a while loop with condition that it will run till y >=1. We have take log to the base 2 for the ease because x=2^5. Otherwise we can use any time of base value for log."
   ]
  },
  {
   "cell_type": "code",
   "execution_count": 47,
   "id": "0225cc4e",
   "metadata": {},
   "outputs": [],
   "source": [
    "while y>=1:\n",
    "    y = math.log2(x)\n",
    "    print(y,x)\n",
    "    x= x/2\n",
    "    "
   ]
  },
  {
   "cell_type": "markdown",
   "id": "4eded57e",
   "metadata": {},
   "source": [
    "As we see in the last row , y ==0 because the log of 1 is zero. Thus when X is 1, log(x)==0."
   ]
  },
  {
   "cell_type": "code",
   "execution_count": null,
   "id": "57204256",
   "metadata": {},
   "outputs": [],
   "source": []
  },
  {
   "cell_type": "code",
   "execution_count": null,
   "id": "3317dcbd",
   "metadata": {},
   "outputs": [],
   "source": []
  },
  {
   "cell_type": "code",
   "execution_count": null,
   "id": "0ec611a8",
   "metadata": {},
   "outputs": [],
   "source": []
  }
 ],
 "metadata": {
  "kernelspec": {
   "display_name": "Python 3 (ipykernel)",
   "language": "python",
   "name": "python3"
  },
  "language_info": {
   "codemirror_mode": {
    "name": "ipython",
    "version": 3
   },
   "file_extension": ".py",
   "mimetype": "text/x-python",
   "name": "python",
   "nbconvert_exporter": "python",
   "pygments_lexer": "ipython3",
   "version": "3.9.6"
  }
 },
 "nbformat": 4,
 "nbformat_minor": 5
}
